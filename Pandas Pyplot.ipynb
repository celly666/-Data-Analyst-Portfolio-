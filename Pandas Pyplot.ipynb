{
 "cells": [
  {
   "cell_type": "code",
   "execution_count": 1,
   "metadata": {},
   "outputs": [
    {
     "name": "stderr",
     "output_type": "stream",
     "text": [
      "Matplotlib is building the font cache; this may take a moment.\n"
     ]
    }
   ],
   "source": [
    "import pandas as pd\n",
    "import numpy as np\n",
    "import seaborn as sns\n",
    "import matplotlib.pyplot as plt\n",
    "%matplotlib inline\n",
    "sns.set(color_codes=True)"
   ]
  },
  {
   "cell_type": "code",
   "execution_count": 30,
   "metadata": {},
   "outputs": [
    {
     "data": {
      "text/html": [
       "<div>\n",
       "<style scoped>\n",
       "    .dataframe tbody tr th:only-of-type {\n",
       "        vertical-align: middle;\n",
       "    }\n",
       "\n",
       "    .dataframe tbody tr th {\n",
       "        vertical-align: top;\n",
       "    }\n",
       "\n",
       "    .dataframe thead th {\n",
       "        text-align: right;\n",
       "    }\n",
       "</style>\n",
       "<table border=\"1\" class=\"dataframe\">\n",
       "  <thead>\n",
       "    <tr style=\"text-align: right;\">\n",
       "      <th></th>\n",
       "      <th>Year</th>\n",
       "      <th>Industry_aggregation_NZSIOC</th>\n",
       "      <th>Industry_code_NZSIOC</th>\n",
       "      <th>Industry_name_NZSIOC</th>\n",
       "      <th>Units</th>\n",
       "      <th>Variable_code</th>\n",
       "      <th>Variable_name</th>\n",
       "      <th>Variable_category</th>\n",
       "      <th>Value</th>\n",
       "      <th>Industry_code_ANZSIC06</th>\n",
       "    </tr>\n",
       "  </thead>\n",
       "  <tbody>\n",
       "    <tr>\n",
       "      <th>0</th>\n",
       "      <td>2019</td>\n",
       "      <td>Level 1</td>\n",
       "      <td>99999</td>\n",
       "      <td>All industries</td>\n",
       "      <td>Dollars (millions)</td>\n",
       "      <td>H01</td>\n",
       "      <td>Total income</td>\n",
       "      <td>Financial performance</td>\n",
       "      <td>728,239</td>\n",
       "      <td>ANZSIC06 divisions A-S (excluding classes K633...</td>\n",
       "    </tr>\n",
       "    <tr>\n",
       "      <th>1</th>\n",
       "      <td>2019</td>\n",
       "      <td>Level 1</td>\n",
       "      <td>99999</td>\n",
       "      <td>All industries</td>\n",
       "      <td>Dollars (millions)</td>\n",
       "      <td>H04</td>\n",
       "      <td>Sales, government funding, grants and subsidies</td>\n",
       "      <td>Financial performance</td>\n",
       "      <td>643,809</td>\n",
       "      <td>ANZSIC06 divisions A-S (excluding classes K633...</td>\n",
       "    </tr>\n",
       "    <tr>\n",
       "      <th>2</th>\n",
       "      <td>2019</td>\n",
       "      <td>Level 1</td>\n",
       "      <td>99999</td>\n",
       "      <td>All industries</td>\n",
       "      <td>Dollars (millions)</td>\n",
       "      <td>H05</td>\n",
       "      <td>Interest, dividends and donations</td>\n",
       "      <td>Financial performance</td>\n",
       "      <td>62,924</td>\n",
       "      <td>ANZSIC06 divisions A-S (excluding classes K633...</td>\n",
       "    </tr>\n",
       "    <tr>\n",
       "      <th>3</th>\n",
       "      <td>2019</td>\n",
       "      <td>Level 1</td>\n",
       "      <td>99999</td>\n",
       "      <td>All industries</td>\n",
       "      <td>Dollars (millions)</td>\n",
       "      <td>H07</td>\n",
       "      <td>Non-operating income</td>\n",
       "      <td>Financial performance</td>\n",
       "      <td>21,505</td>\n",
       "      <td>ANZSIC06 divisions A-S (excluding classes K633...</td>\n",
       "    </tr>\n",
       "    <tr>\n",
       "      <th>4</th>\n",
       "      <td>2019</td>\n",
       "      <td>Level 1</td>\n",
       "      <td>99999</td>\n",
       "      <td>All industries</td>\n",
       "      <td>Dollars (millions)</td>\n",
       "      <td>H08</td>\n",
       "      <td>Total expenditure</td>\n",
       "      <td>Financial performance</td>\n",
       "      <td>634,710</td>\n",
       "      <td>ANZSIC06 divisions A-S (excluding classes K633...</td>\n",
       "    </tr>\n",
       "  </tbody>\n",
       "</table>\n",
       "</div>"
      ],
      "text/plain": [
       "   Year Industry_aggregation_NZSIOC Industry_code_NZSIOC Industry_name_NZSIOC  \\\n",
       "0  2019                     Level 1                99999       All industries   \n",
       "1  2019                     Level 1                99999       All industries   \n",
       "2  2019                     Level 1                99999       All industries   \n",
       "3  2019                     Level 1                99999       All industries   \n",
       "4  2019                     Level 1                99999       All industries   \n",
       "\n",
       "                Units Variable_code  \\\n",
       "0  Dollars (millions)           H01   \n",
       "1  Dollars (millions)           H04   \n",
       "2  Dollars (millions)           H05   \n",
       "3  Dollars (millions)           H07   \n",
       "4  Dollars (millions)           H08   \n",
       "\n",
       "                                     Variable_name      Variable_category  \\\n",
       "0                                     Total income  Financial performance   \n",
       "1  Sales, government funding, grants and subsidies  Financial performance   \n",
       "2                Interest, dividends and donations  Financial performance   \n",
       "3                             Non-operating income  Financial performance   \n",
       "4                                Total expenditure  Financial performance   \n",
       "\n",
       "     Value                             Industry_code_ANZSIC06  \n",
       "0  728,239  ANZSIC06 divisions A-S (excluding classes K633...  \n",
       "1  643,809  ANZSIC06 divisions A-S (excluding classes K633...  \n",
       "2   62,924  ANZSIC06 divisions A-S (excluding classes K633...  \n",
       "3   21,505  ANZSIC06 divisions A-S (excluding classes K633...  \n",
       "4  634,710  ANZSIC06 divisions A-S (excluding classes K633...  "
      ]
     },
     "execution_count": 30,
     "metadata": {},
     "output_type": "execute_result"
    }
   ],
   "source": [
    "survey = pd.read_csv(\"C:/Users/camil/Downloads/survey.csv\")\n",
    "survey.head()"
   ]
  },
  {
   "cell_type": "code",
   "execution_count": 26,
   "metadata": {},
   "outputs": [
    {
     "data": {
      "text/plain": [
       "Index(['Year', 'Industry_aggregation_NZSIOC', 'Industry_code_NZSIOC',\n",
       "       'Industry_name_NZSIOC', 'Units', 'Variable_code', 'Variable_name',\n",
       "       'Variable_category', 'Value', 'Industry_code_ANZSIC06'],\n",
       "      dtype='object')"
      ]
     },
     "execution_count": 26,
     "metadata": {},
     "output_type": "execute_result"
    }
   ],
   "source": [
    "survey.columns"
   ]
  },
  {
   "cell_type": "code",
   "execution_count": 28,
   "metadata": {},
   "outputs": [
    {
     "data": {
      "text/plain": [
       "array(['Year', 'Industry_aggregation_NZSIOC', 'Industry_code_NZSIOC',\n",
       "       'Industry_name_NZSIOC', 'Units', 'Variable_code', 'Variable_name',\n",
       "       'Variable_category', 'Value', 'Industry_code_ANZSIC06'],\n",
       "      dtype=object)"
      ]
     },
     "execution_count": 28,
     "metadata": {},
     "output_type": "execute_result"
    }
   ],
   "source": [
    "survey.columns.values"
   ]
  },
  {
   "cell_type": "code",
   "execution_count": 29,
   "metadata": {},
   "outputs": [
    {
     "data": {
      "text/html": [
       "<div>\n",
       "<style scoped>\n",
       "    .dataframe tbody tr th:only-of-type {\n",
       "        vertical-align: middle;\n",
       "    }\n",
       "\n",
       "    .dataframe tbody tr th {\n",
       "        vertical-align: top;\n",
       "    }\n",
       "\n",
       "    .dataframe thead th {\n",
       "        text-align: right;\n",
       "    }\n",
       "</style>\n",
       "<table border=\"1\" class=\"dataframe\">\n",
       "  <thead>\n",
       "    <tr style=\"text-align: right;\">\n",
       "      <th></th>\n",
       "      <th>Year</th>\n",
       "      <th>Industry_aggregation_NZSIOC</th>\n",
       "      <th>Industry_code_NZSIOC</th>\n",
       "      <th>Industry_name_NZSIOC</th>\n",
       "      <th>Units</th>\n",
       "      <th>Variable_code</th>\n",
       "      <th>Variable_name</th>\n",
       "      <th>Variable_category</th>\n",
       "      <th>Value</th>\n",
       "      <th>Industry_code_ANZSIC06</th>\n",
       "    </tr>\n",
       "  </thead>\n",
       "  <tbody>\n",
       "    <tr>\n",
       "      <th>count</th>\n",
       "      <td>32445.000000</td>\n",
       "      <td>32445</td>\n",
       "      <td>32445</td>\n",
       "      <td>32445</td>\n",
       "      <td>32445</td>\n",
       "      <td>32445</td>\n",
       "      <td>32445</td>\n",
       "      <td>32445</td>\n",
       "      <td>32445</td>\n",
       "      <td>32445</td>\n",
       "    </tr>\n",
       "    <tr>\n",
       "      <th>unique</th>\n",
       "      <td>NaN</td>\n",
       "      <td>3</td>\n",
       "      <td>139</td>\n",
       "      <td>119</td>\n",
       "      <td>3</td>\n",
       "      <td>39</td>\n",
       "      <td>41</td>\n",
       "      <td>3</td>\n",
       "      <td>9282</td>\n",
       "      <td>121</td>\n",
       "    </tr>\n",
       "    <tr>\n",
       "      <th>top</th>\n",
       "      <td>NaN</td>\n",
       "      <td>Level 4</td>\n",
       "      <td>CC611</td>\n",
       "      <td>Public Order, Safety and Regulatory Services</td>\n",
       "      <td>Dollars (millions)</td>\n",
       "      <td>H20</td>\n",
       "      <td>Total income</td>\n",
       "      <td>Financial performance</td>\n",
       "      <td>C</td>\n",
       "      <td>ANZSIC06 groups C201, C202, C203, and C209</td>\n",
       "    </tr>\n",
       "    <tr>\n",
       "      <th>freq</th>\n",
       "      <td>NaN</td>\n",
       "      <td>17759</td>\n",
       "      <td>252</td>\n",
       "      <td>589</td>\n",
       "      <td>25508</td>\n",
       "      <td>973</td>\n",
       "      <td>973</td>\n",
       "      <td>16219</td>\n",
       "      <td>1593</td>\n",
       "      <td>504</td>\n",
       "    </tr>\n",
       "    <tr>\n",
       "      <th>mean</th>\n",
       "      <td>2016.000000</td>\n",
       "      <td>NaN</td>\n",
       "      <td>NaN</td>\n",
       "      <td>NaN</td>\n",
       "      <td>NaN</td>\n",
       "      <td>NaN</td>\n",
       "      <td>NaN</td>\n",
       "      <td>NaN</td>\n",
       "      <td>NaN</td>\n",
       "      <td>NaN</td>\n",
       "    </tr>\n",
       "    <tr>\n",
       "      <th>std</th>\n",
       "      <td>2.000031</td>\n",
       "      <td>NaN</td>\n",
       "      <td>NaN</td>\n",
       "      <td>NaN</td>\n",
       "      <td>NaN</td>\n",
       "      <td>NaN</td>\n",
       "      <td>NaN</td>\n",
       "      <td>NaN</td>\n",
       "      <td>NaN</td>\n",
       "      <td>NaN</td>\n",
       "    </tr>\n",
       "    <tr>\n",
       "      <th>min</th>\n",
       "      <td>2013.000000</td>\n",
       "      <td>NaN</td>\n",
       "      <td>NaN</td>\n",
       "      <td>NaN</td>\n",
       "      <td>NaN</td>\n",
       "      <td>NaN</td>\n",
       "      <td>NaN</td>\n",
       "      <td>NaN</td>\n",
       "      <td>NaN</td>\n",
       "      <td>NaN</td>\n",
       "    </tr>\n",
       "    <tr>\n",
       "      <th>25%</th>\n",
       "      <td>2014.000000</td>\n",
       "      <td>NaN</td>\n",
       "      <td>NaN</td>\n",
       "      <td>NaN</td>\n",
       "      <td>NaN</td>\n",
       "      <td>NaN</td>\n",
       "      <td>NaN</td>\n",
       "      <td>NaN</td>\n",
       "      <td>NaN</td>\n",
       "      <td>NaN</td>\n",
       "    </tr>\n",
       "    <tr>\n",
       "      <th>50%</th>\n",
       "      <td>2016.000000</td>\n",
       "      <td>NaN</td>\n",
       "      <td>NaN</td>\n",
       "      <td>NaN</td>\n",
       "      <td>NaN</td>\n",
       "      <td>NaN</td>\n",
       "      <td>NaN</td>\n",
       "      <td>NaN</td>\n",
       "      <td>NaN</td>\n",
       "      <td>NaN</td>\n",
       "    </tr>\n",
       "    <tr>\n",
       "      <th>75%</th>\n",
       "      <td>2018.000000</td>\n",
       "      <td>NaN</td>\n",
       "      <td>NaN</td>\n",
       "      <td>NaN</td>\n",
       "      <td>NaN</td>\n",
       "      <td>NaN</td>\n",
       "      <td>NaN</td>\n",
       "      <td>NaN</td>\n",
       "      <td>NaN</td>\n",
       "      <td>NaN</td>\n",
       "    </tr>\n",
       "    <tr>\n",
       "      <th>max</th>\n",
       "      <td>2019.000000</td>\n",
       "      <td>NaN</td>\n",
       "      <td>NaN</td>\n",
       "      <td>NaN</td>\n",
       "      <td>NaN</td>\n",
       "      <td>NaN</td>\n",
       "      <td>NaN</td>\n",
       "      <td>NaN</td>\n",
       "      <td>NaN</td>\n",
       "      <td>NaN</td>\n",
       "    </tr>\n",
       "  </tbody>\n",
       "</table>\n",
       "</div>"
      ],
      "text/plain": [
       "                Year Industry_aggregation_NZSIOC Industry_code_NZSIOC  \\\n",
       "count   32445.000000                       32445                32445   \n",
       "unique           NaN                           3                  139   \n",
       "top              NaN                     Level 4                CC611   \n",
       "freq             NaN                       17759                  252   \n",
       "mean     2016.000000                         NaN                  NaN   \n",
       "std         2.000031                         NaN                  NaN   \n",
       "min      2013.000000                         NaN                  NaN   \n",
       "25%      2014.000000                         NaN                  NaN   \n",
       "50%      2016.000000                         NaN                  NaN   \n",
       "75%      2018.000000                         NaN                  NaN   \n",
       "max      2019.000000                         NaN                  NaN   \n",
       "\n",
       "                                Industry_name_NZSIOC               Units  \\\n",
       "count                                          32445               32445   \n",
       "unique                                           119                   3   \n",
       "top     Public Order, Safety and Regulatory Services  Dollars (millions)   \n",
       "freq                                             589               25508   \n",
       "mean                                             NaN                 NaN   \n",
       "std                                              NaN                 NaN   \n",
       "min                                              NaN                 NaN   \n",
       "25%                                              NaN                 NaN   \n",
       "50%                                              NaN                 NaN   \n",
       "75%                                              NaN                 NaN   \n",
       "max                                              NaN                 NaN   \n",
       "\n",
       "       Variable_code Variable_name      Variable_category  Value  \\\n",
       "count          32445         32445                  32445  32445   \n",
       "unique            39            41                      3   9282   \n",
       "top              H20  Total income  Financial performance      C   \n",
       "freq             973           973                  16219   1593   \n",
       "mean             NaN           NaN                    NaN    NaN   \n",
       "std              NaN           NaN                    NaN    NaN   \n",
       "min              NaN           NaN                    NaN    NaN   \n",
       "25%              NaN           NaN                    NaN    NaN   \n",
       "50%              NaN           NaN                    NaN    NaN   \n",
       "75%              NaN           NaN                    NaN    NaN   \n",
       "max              NaN           NaN                    NaN    NaN   \n",
       "\n",
       "                            Industry_code_ANZSIC06  \n",
       "count                                        32445  \n",
       "unique                                         121  \n",
       "top     ANZSIC06 groups C201, C202, C203, and C209  \n",
       "freq                                           504  \n",
       "mean                                           NaN  \n",
       "std                                            NaN  \n",
       "min                                            NaN  \n",
       "25%                                            NaN  \n",
       "50%                                            NaN  \n",
       "75%                                            NaN  \n",
       "max                                            NaN  "
      ]
     },
     "execution_count": 29,
     "metadata": {},
     "output_type": "execute_result"
    }
   ],
   "source": [
    "survey.describe(include='all')"
   ]
  },
  {
   "cell_type": "code",
   "execution_count": 31,
   "metadata": {},
   "outputs": [
    {
     "data": {
      "text/plain": [
       "array([[<AxesSubplot:title={'center':'Year'}>]], dtype=object)"
      ]
     },
     "execution_count": 31,
     "metadata": {},
     "output_type": "execute_result"
    },
    {
     "data": {
      "image/png": "[encoded data removed]",
      "text/plain": [
       "<Figure size 1440x2160 with 1 Axes>"
      ]
     },
     "metadata": {},
     "output_type": "display_data"
    }
   ],
   "source": [
    "survey.hist(figsize=(20,30))"
   ]
  },
  {
   "cell_type": "code",
   "execution_count": 36,
   "metadata": {},
   "outputs": [
    {
     "data": {
      "text/plain": [
       "<AxesSubplot:xlabel='Variable_code', ylabel='Year'>"
      ]
     },
     "execution_count": 36,
     "metadata": {},
     "output_type": "execute_result"
    },
    {
     "data": {
      "image/png": "[encoded data removed]",
      "text/plain": [
       "<Figure size 432x288 with 1 Axes>"
      ]
     },
     "metadata": {},
     "output_type": "display_data"
    }
   ],
   "source": [
    "sns.boxplot(x=\"Variable_code\", y=\"Year\", data=survey)"
   ]
  },
  {
   "cell_type": "code",
   "execution_count": 37,
   "metadata": {},
   "outputs": [
    {
     "data": {
      "text/plain": [
       "<seaborn.axisgrid.PairGrid at 0x1623f369f40>"
      ]
     },
     "execution_count": 37,
     "metadata": {},
     "output_type": "execute_result"
    },
    {
     "data": {
      "image/png": "[encoded data removed]",
      "text/plain": [
       "<Figure size 180x180 with 2 Axes>"
      ]
     },
     "metadata": {},
     "output_type": "display_data"
    }
   ],
   "source": [
    "sns.pairplot(survey)"
   ]
  },
  {
   "cell_type": "code",
   "execution_count": 43,
   "metadata": {},
   "outputs": [
    {
     "data": {
      "text/html": [
       "<div>\n",
       "<style scoped>\n",
       "    .dataframe tbody tr th:only-of-type {\n",
       "        vertical-align: middle;\n",
       "    }\n",
       "\n",
       "    .dataframe tbody tr th {\n",
       "        vertical-align: top;\n",
       "    }\n",
       "\n",
       "    .dataframe thead th {\n",
       "        text-align: right;\n",
       "    }\n",
       "</style>\n",
       "<table border=\"1\" class=\"dataframe\">\n",
       "  <thead>\n",
       "    <tr style=\"text-align: right;\">\n",
       "      <th></th>\n",
       "      <th>Year</th>\n",
       "      <th>Industry_aggregation</th>\n",
       "      <th>Industry_code</th>\n",
       "      <th>Industry_name</th>\n",
       "      <th>Units</th>\n",
       "      <th>Variable_code</th>\n",
       "      <th>Variable_name</th>\n",
       "      <th>Variable_category</th>\n",
       "      <th>Value</th>\n",
       "      <th>Industry_code_ANZSIC06</th>\n",
       "    </tr>\n",
       "  </thead>\n",
       "  <tbody>\n",
       "    <tr>\n",
       "      <th>0</th>\n",
       "      <td>2019</td>\n",
       "      <td>Level 1</td>\n",
       "      <td>99999</td>\n",
       "      <td>All industries</td>\n",
       "      <td>Dollars (millions)</td>\n",
       "      <td>H01</td>\n",
       "      <td>Total income</td>\n",
       "      <td>Financial performance</td>\n",
       "      <td>728,239</td>\n",
       "      <td>ANZSIC06 divisions A-S (excluding classes K633...</td>\n",
       "    </tr>\n",
       "    <tr>\n",
       "      <th>1</th>\n",
       "      <td>2019</td>\n",
       "      <td>Level 1</td>\n",
       "      <td>99999</td>\n",
       "      <td>All industries</td>\n",
       "      <td>Dollars (millions)</td>\n",
       "      <td>H04</td>\n",
       "      <td>Sales, government funding, grants and subsidies</td>\n",
       "      <td>Financial performance</td>\n",
       "      <td>643,809</td>\n",
       "      <td>ANZSIC06 divisions A-S (excluding classes K633...</td>\n",
       "    </tr>\n",
       "    <tr>\n",
       "      <th>2</th>\n",
       "      <td>2019</td>\n",
       "      <td>Level 1</td>\n",
       "      <td>99999</td>\n",
       "      <td>All industries</td>\n",
       "      <td>Dollars (millions)</td>\n",
       "      <td>H05</td>\n",
       "      <td>Interest, dividends and donations</td>\n",
       "      <td>Financial performance</td>\n",
       "      <td>62,924</td>\n",
       "      <td>ANZSIC06 divisions A-S (excluding classes K633...</td>\n",
       "    </tr>\n",
       "    <tr>\n",
       "      <th>3</th>\n",
       "      <td>2019</td>\n",
       "      <td>Level 1</td>\n",
       "      <td>99999</td>\n",
       "      <td>All industries</td>\n",
       "      <td>Dollars (millions)</td>\n",
       "      <td>H07</td>\n",
       "      <td>Non-operating income</td>\n",
       "      <td>Financial performance</td>\n",
       "      <td>21,505</td>\n",
       "      <td>ANZSIC06 divisions A-S (excluding classes K633...</td>\n",
       "    </tr>\n",
       "    <tr>\n",
       "      <th>4</th>\n",
       "      <td>2019</td>\n",
       "      <td>Level 1</td>\n",
       "      <td>99999</td>\n",
       "      <td>All industries</td>\n",
       "      <td>Dollars (millions)</td>\n",
       "      <td>H08</td>\n",
       "      <td>Total expenditure</td>\n",
       "      <td>Financial performance</td>\n",
       "      <td>634,710</td>\n",
       "      <td>ANZSIC06 divisions A-S (excluding classes K633...</td>\n",
       "    </tr>\n",
       "  </tbody>\n",
       "</table>\n",
       "</div>"
      ],
      "text/plain": [
       "   Year Industry_aggregation Industry_code   Industry_name  \\\n",
       "0  2019              Level 1         99999  All industries   \n",
       "1  2019              Level 1         99999  All industries   \n",
       "2  2019              Level 1         99999  All industries   \n",
       "3  2019              Level 1         99999  All industries   \n",
       "4  2019              Level 1         99999  All industries   \n",
       "\n",
       "                Units Variable_code  \\\n",
       "0  Dollars (millions)           H01   \n",
       "1  Dollars (millions)           H04   \n",
       "2  Dollars (millions)           H05   \n",
       "3  Dollars (millions)           H07   \n",
       "4  Dollars (millions)           H08   \n",
       "\n",
       "                                     Variable_name      Variable_category  \\\n",
       "0                                     Total income  Financial performance   \n",
       "1  Sales, government funding, grants and subsidies  Financial performance   \n",
       "2                Interest, dividends and donations  Financial performance   \n",
       "3                             Non-operating income  Financial performance   \n",
       "4                                Total expenditure  Financial performance   \n",
       "\n",
       "     Value                             Industry_code_ANZSIC06  \n",
       "0  728,239  ANZSIC06 divisions A-S (excluding classes K633...  \n",
       "1  643,809  ANZSIC06 divisions A-S (excluding classes K633...  \n",
       "2   62,924  ANZSIC06 divisions A-S (excluding classes K633...  \n",
       "3   21,505  ANZSIC06 divisions A-S (excluding classes K633...  \n",
       "4  634,710  ANZSIC06 divisions A-S (excluding classes K633...  "
      ]
     },
     "execution_count": 43,
     "metadata": {},
     "output_type": "execute_result"
    }
   ],
   "source": [
    "survey= survey.rename(columns={\"Industry_aggregation_NZSIOC\" : \"Industry_aggregation\", \"Industry_code_NZSIOC\" :\"Industry_code\",\"Industry_name_NZSIOC\" :\"Industry_name\"})\n",
    "survey.head(5)"
   ]
  },
  {
   "cell_type": "code",
   "execution_count": 44,
   "metadata": {},
   "outputs": [
    {
     "data": {
      "text/plain": [
       "(32445, 10)"
      ]
     },
     "execution_count": 44,
     "metadata": {},
     "output_type": "execute_result"
    }
   ],
   "source": [
    "survey.shape"
   ]
  },
  {
   "cell_type": "code",
   "execution_count": 46,
   "metadata": {},
   "outputs": [
    {
     "name": "stdout",
     "output_type": "stream",
     "text": [
      "Number of duplicate rows:  (0, 10)\n"
     ]
    }
   ],
   "source": [
    "duplicate_rows_survey =survey[survey.duplicated()]\n",
    "print(\"Number of duplicate rows: \", duplicate_rows_survey.shape)"
   ]
  },
  {
   "cell_type": "code",
   "execution_count": 47,
   "metadata": {},
   "outputs": [
    {
     "data": {
      "text/plain": [
       "Year                      32445\n",
       "Industry_aggregation      32445\n",
       "Industry_code             32445\n",
       "Industry_name             32445\n",
       "Units                     32445\n",
       "Variable_code             32445\n",
       "Variable_name             32445\n",
       "Variable_category         32445\n",
       "Value                     32445\n",
       "Industry_code_ANZSIC06    32445\n",
       "dtype: int64"
      ]
     },
     "execution_count": 47,
     "metadata": {},
     "output_type": "execute_result"
    }
   ],
   "source": [
    "survey.count()"
   ]
  },
  {
   "cell_type": "code",
   "execution_count": 48,
   "metadata": {},
   "outputs": [
    {
     "data": {
      "text/html": [
       "<div>\n",
       "<style scoped>\n",
       "    .dataframe tbody tr th:only-of-type {\n",
       "        vertical-align: middle;\n",
       "    }\n",
       "\n",
       "    .dataframe tbody tr th {\n",
       "        vertical-align: top;\n",
       "    }\n",
       "\n",
       "    .dataframe thead th {\n",
       "        text-align: right;\n",
       "    }\n",
       "</style>\n",
       "<table border=\"1\" class=\"dataframe\">\n",
       "  <thead>\n",
       "    <tr style=\"text-align: right;\">\n",
       "      <th></th>\n",
       "      <th>Year</th>\n",
       "      <th>Industry_aggregation</th>\n",
       "      <th>Industry_code</th>\n",
       "      <th>Industry_name</th>\n",
       "      <th>Units</th>\n",
       "      <th>Variable_code</th>\n",
       "      <th>Variable_name</th>\n",
       "      <th>Variable_category</th>\n",
       "      <th>Value</th>\n",
       "      <th>Industry_code_ANZSIC06</th>\n",
       "    </tr>\n",
       "  </thead>\n",
       "  <tbody>\n",
       "    <tr>\n",
       "      <th>0</th>\n",
       "      <td>2019</td>\n",
       "      <td>Level 1</td>\n",
       "      <td>99999</td>\n",
       "      <td>All industries</td>\n",
       "      <td>Dollars (millions)</td>\n",
       "      <td>H01</td>\n",
       "      <td>Total income</td>\n",
       "      <td>Financial performance</td>\n",
       "      <td>728,239</td>\n",
       "      <td>ANZSIC06 divisions A-S (excluding classes K633...</td>\n",
       "    </tr>\n",
       "    <tr>\n",
       "      <th>1</th>\n",
       "      <td>2019</td>\n",
       "      <td>Level 1</td>\n",
       "      <td>99999</td>\n",
       "      <td>All industries</td>\n",
       "      <td>Dollars (millions)</td>\n",
       "      <td>H04</td>\n",
       "      <td>Sales, government funding, grants and subsidies</td>\n",
       "      <td>Financial performance</td>\n",
       "      <td>643,809</td>\n",
       "      <td>ANZSIC06 divisions A-S (excluding classes K633...</td>\n",
       "    </tr>\n",
       "    <tr>\n",
       "      <th>2</th>\n",
       "      <td>2019</td>\n",
       "      <td>Level 1</td>\n",
       "      <td>99999</td>\n",
       "      <td>All industries</td>\n",
       "      <td>Dollars (millions)</td>\n",
       "      <td>H05</td>\n",
       "      <td>Interest, dividends and donations</td>\n",
       "      <td>Financial performance</td>\n",
       "      <td>62,924</td>\n",
       "      <td>ANZSIC06 divisions A-S (excluding classes K633...</td>\n",
       "    </tr>\n",
       "    <tr>\n",
       "      <th>3</th>\n",
       "      <td>2019</td>\n",
       "      <td>Level 1</td>\n",
       "      <td>99999</td>\n",
       "      <td>All industries</td>\n",
       "      <td>Dollars (millions)</td>\n",
       "      <td>H07</td>\n",
       "      <td>Non-operating income</td>\n",
       "      <td>Financial performance</td>\n",
       "      <td>21,505</td>\n",
       "      <td>ANZSIC06 divisions A-S (excluding classes K633...</td>\n",
       "    </tr>\n",
       "    <tr>\n",
       "      <th>4</th>\n",
       "      <td>2019</td>\n",
       "      <td>Level 1</td>\n",
       "      <td>99999</td>\n",
       "      <td>All industries</td>\n",
       "      <td>Dollars (millions)</td>\n",
       "      <td>H08</td>\n",
       "      <td>Total expenditure</td>\n",
       "      <td>Financial performance</td>\n",
       "      <td>634,710</td>\n",
       "      <td>ANZSIC06 divisions A-S (excluding classes K633...</td>\n",
       "    </tr>\n",
       "  </tbody>\n",
       "</table>\n",
       "</div>"
      ],
      "text/plain": [
       "   Year Industry_aggregation Industry_code   Industry_name  \\\n",
       "0  2019              Level 1         99999  All industries   \n",
       "1  2019              Level 1         99999  All industries   \n",
       "2  2019              Level 1         99999  All industries   \n",
       "3  2019              Level 1         99999  All industries   \n",
       "4  2019              Level 1         99999  All industries   \n",
       "\n",
       "                Units Variable_code  \\\n",
       "0  Dollars (millions)           H01   \n",
       "1  Dollars (millions)           H04   \n",
       "2  Dollars (millions)           H05   \n",
       "3  Dollars (millions)           H07   \n",
       "4  Dollars (millions)           H08   \n",
       "\n",
       "                                     Variable_name      Variable_category  \\\n",
       "0                                     Total income  Financial performance   \n",
       "1  Sales, government funding, grants and subsidies  Financial performance   \n",
       "2                Interest, dividends and donations  Financial performance   \n",
       "3                             Non-operating income  Financial performance   \n",
       "4                                Total expenditure  Financial performance   \n",
       "\n",
       "     Value                             Industry_code_ANZSIC06  \n",
       "0  728,239  ANZSIC06 divisions A-S (excluding classes K633...  \n",
       "1  643,809  ANZSIC06 divisions A-S (excluding classes K633...  \n",
       "2   62,924  ANZSIC06 divisions A-S (excluding classes K633...  \n",
       "3   21,505  ANZSIC06 divisions A-S (excluding classes K633...  \n",
       "4  634,710  ANZSIC06 divisions A-S (excluding classes K633...  "
      ]
     },
     "execution_count": 48,
     "metadata": {},
     "output_type": "execute_result"
    }
   ],
   "source": [
    "survey=survey.drop_duplicates()\n",
    "survey.head()"
   ]
  },
  {
   "cell_type": "code",
   "execution_count": 49,
   "metadata": {},
   "outputs": [
    {
     "data": {
      "text/plain": [
       "Year                      32445\n",
       "Industry_aggregation      32445\n",
       "Industry_code             32445\n",
       "Industry_name             32445\n",
       "Units                     32445\n",
       "Variable_code             32445\n",
       "Variable_name             32445\n",
       "Variable_category         32445\n",
       "Value                     32445\n",
       "Industry_code_ANZSIC06    32445\n",
       "dtype: int64"
      ]
     },
     "execution_count": 49,
     "metadata": {},
     "output_type": "execute_result"
    }
   ],
   "source": [
    "survey=survey.drop_duplicates()\n",
    "survey.count()"
   ]
  },
  {
   "cell_type": "code",
   "execution_count": 50,
   "metadata": {},
   "outputs": [
    {
     "name": "stdout",
     "output_type": "stream",
     "text": [
      "Year                      0\n",
      "Industry_aggregation      0\n",
      "Industry_code             0\n",
      "Industry_name             0\n",
      "Units                     0\n",
      "Variable_code             0\n",
      "Variable_name             0\n",
      "Variable_category         0\n",
      "Value                     0\n",
      "Industry_code_ANZSIC06    0\n",
      "dtype: int64\n"
     ]
    }
   ],
   "source": [
    "print(survey.isnull().sum())"
   ]
  },
  {
   "cell_type": "code",
   "execution_count": 51,
   "metadata": {},
   "outputs": [
    {
     "data": {
      "text/plain": [
       "Year                      32445\n",
       "Industry_aggregation      32445\n",
       "Industry_code             32445\n",
       "Industry_name             32445\n",
       "Units                     32445\n",
       "Variable_code             32445\n",
       "Variable_name             32445\n",
       "Variable_category         32445\n",
       "Value                     32445\n",
       "Industry_code_ANZSIC06    32445\n",
       "dtype: int64"
      ]
     },
     "execution_count": 51,
     "metadata": {},
     "output_type": "execute_result"
    }
   ],
   "source": [
    "survey=survey.dropna()\n",
    "survey.count()"
   ]
  },
  {
   "cell_type": "code",
   "execution_count": 53,
   "metadata": {},
   "outputs": [
    {
     "data": {
      "text/plain": [
       "<AxesSubplot:xlabel='Year'>"
      ]
     },
     "execution_count": 53,
     "metadata": {},
     "output_type": "execute_result"
    },
    {
     "data": {
      "image/png": "[encoded data removed]",
      "text/plain": [
       "<Figure size 432x288 with 1 Axes>"
      ]
     },
     "metadata": {},
     "output_type": "display_data"
    }
   ],
   "source": [
    "sns.boxplot(x=survey['Year'])"
   ]
  },
  {
   "cell_type": "code",
   "execution_count": 66,
   "metadata": {},
   "outputs": [
    {
     "data": {
      "text/html": [
       "<div>\n",
       "<style scoped>\n",
       "    .dataframe tbody tr th:only-of-type {\n",
       "        vertical-align: middle;\n",
       "    }\n",
       "\n",
       "    .dataframe tbody tr th {\n",
       "        vertical-align: top;\n",
       "    }\n",
       "\n",
       "    .dataframe thead th {\n",
       "        text-align: right;\n",
       "    }\n",
       "</style>\n",
       "<table border=\"1\" class=\"dataframe\">\n",
       "  <thead>\n",
       "    <tr style=\"text-align: right;\">\n",
       "      <th></th>\n",
       "      <th>Year</th>\n",
       "    </tr>\n",
       "  </thead>\n",
       "  <tbody>\n",
       "    <tr>\n",
       "      <th>Year</th>\n",
       "      <td>1.0</td>\n",
       "    </tr>\n",
       "  </tbody>\n",
       "</table>\n",
       "</div>"
      ],
      "text/plain": [
       "      Year\n",
       "Year   1.0"
      ]
     },
     "execution_count": 66,
     "metadata": {},
     "output_type": "execute_result"
    },
    {
     "data": {
      "image/png": "[encoded data removed]",
      "text/plain": [
       "<Figure size 1440x720 with 2 Axes>"
      ]
     },
     "metadata": {},
     "output_type": "display_data"
    }
   ],
   "source": [
    "plt.figure(figsize=(20,10))\n",
    "c=survey.corr()\n",
    "sns.heatmap(c,cmap=\"BrBG\", annot=True)\n",
    "c"
   ]
  },
  {
   "cell_type": "code",
   "execution_count": null,
   "metadata": {},
   "outputs": [],
   "source": []
  }
 ],
 "metadata": {
  "kernelspec": {
   "display_name": "Python 3",
   "language": "python",
   "name": "python3"
  },
  "language_info": {
   "codemirror_mode": {
    "name": "ipython",
    "version": 3
   },
   "file_extension": ".py",
   "mimetype": "text/x-python",
   "name": "python",
   "nbconvert_exporter": "python",
   "pygments_lexer": "ipython3",
   "version": "3.8.5"
  }
 },
 "nbformat": 4,
 "nbformat_minor": 4
}
